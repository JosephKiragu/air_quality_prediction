{
 "cells": [
  {
   "cell_type": "code",
   "execution_count": null,
   "metadata": {},
   "outputs": [],
   "source": [
    "import yaml\n",
    "import xgboost as xgb\n",
    "from sklearn.model_selection import RandomizedSearchCV, train_test_split, KFold\n",
    "from sklearn.metrics import mean_squared_error\n",
    "import pandas as pd\n",
    "import pickle\n",
    "\n",
    "class XGBoostModel:\n",
    "\tdef __init__(self, config_path):\n",
    "\t\twith open(config_path, 'r') as file:\n",
    "\t\t\tself.config = yaml.safe_load(file)\n",
    "\n",
    "\n",
    "\tdef train(self, X_train, y_train):\n",
    "\t\tmodel_params = self.config['xgboost_model']['parameters']\n",
    "\t\ttrain_params = self.config['xgboost_model']['train_params']\n",
    "\n",
    "\t\t# self.model = xgb.XGBRegressor(**model_params)\n",
    "\t\tdtrain = xgb.DMatrix(X_train, label=y_train)\n",
    "\n",
    "\t\tif self.config['xgboost_model']['hyperparameter_tuning']['enable']:\n",
    "\t\t\tparam_grid = self.config['xgboost_model']['hyperparameter_tuning']['param_grid']\n",
    "\t\t\tn_iter = self.config['xgboost_model']['hyperparameter_tuning']['n_iter']\n",
    "\t\t\tscoring = self.config['xgboost_model']['hyperparameter_tuning']['scoring']\n",
    "\t\t\trandom_state = self.config['xgboost_model']['hyperparameter_tuning']['random_state']\n",
    "\n",
    "\t\t\tself.model = xgb.XGBRegressor(**model_params)\n",
    "\n",
    "\t\t\t# kf = KFold(n_splits=10, shuffle=True, random_state=random_state)\n",
    "\n",
    "\t\t\tself.model = RandomizedSearchCV(\n",
    "\t\t\t\testimator = self.model,\n",
    "\t\t\t\tparam_distributions = param_grid,\n",
    "\t\t\t\tn_iter = n_iter,\n",
    "\t\t\t\tscoring = scoring,\n",
    "\t\t\t\tcv = 5,\n",
    "\t\t\t\trandom_state=random_state,\n",
    "\t\t\t\tverbose = 2\n",
    "\n",
    "\t\t\t)\n",
    "\n",
    "\t\t\tself.model.fit(X_train, y_train, **train_params)\n",
    "\t\telse:\n",
    "\t\t\tparams = model_params.copy()\n",
    "\t\t\tparams.update(train_params)\n",
    "\n",
    "\t\t\txgb_cv = xgb.cv(\n",
    "\t\t\t\tparams,\n",
    "\t\t\t\tdtrain,\n",
    "\t\t\t\tnum_boost_round=params['n_estimators'],\n",
    "\t\t\t\tnfold=5,\n",
    "\t\t\t\tearly_stopping_rounds=train_params['early_stopping_rounds'],\n",
    "\t\t\t\tverbose_eval=train_params['verbose_eval']\n",
    "\t\t\t)\n",
    "\t\t\tself.model = xgb.XGBRegressor(**model_params)\n",
    "\t\t\tself.model.set_params(n_estimators=len(xgb_cv))\n",
    "\t\t\tself.model.fit(X_train, y_train)\n",
    "\n",
    "\tdef save_model(self):\n",
    "\t\tdirectory = self.config['xgboost_model']['model_saving']['directory']\n",
    "\t\tfilename = self.config['xgboost_model']['model_saving']['filename']\n",
    "\t\tpickle.dump(self.model, open(f\"{directory}/{filename}\", 'wb'))\n",
    "\n",
    "\n",
    "\t\t\n",
    "\t\n",
    "\n"
   ]
  },
  {
   "cell_type": "code",
   "execution_count": 5,
   "metadata": {},
   "outputs": [
    {
     "name": "stdout",
     "output_type": "stream",
     "text": [
      "['sulphurdioxide_so2_column_number_density', 'sulphurdioxide_so2_column_number_density_amf', 'sulphurdioxide_so2_slant_column_number_density', 'sulphurdioxide_cloud_fraction', 'sulphurdioxide_sensor_azimuth_angle', 'sulphurdioxide_sensor_zenith_angle', 'sulphurdioxide_solar_azimuth_angle', 'sulphurdioxide_solar_zenith_angle', 'sulphurdioxide_so2_column_number_density_15km', 'carbonmonoxide_co_column_number_density', 'carbonmonoxide_h2o_column_number_density', 'carbonmonoxide_cloud_height', 'carbonmonoxide_sensor_altitude', 'carbonmonoxide_sensor_azimuth_angle', 'carbonmonoxide_sensor_zenith_angle', 'carbonmonoxide_solar_azimuth_angle', 'carbonmonoxide_solar_zenith_angle', 'nitrogendioxide_no2_column_number_density', 'nitrogendioxide_tropospheric_no2_column_number_density', 'nitrogendioxide_stratospheric_no2_column_number_density', 'nitrogendioxide_no2_slant_column_number_density', 'nitrogendioxide_tropopause_pressure', 'nitrogendioxide_absorbing_aerosol_index', 'nitrogendioxide_cloud_fraction', 'nitrogendioxide_sensor_altitude', 'nitrogendioxide_sensor_azimuth_angle', 'nitrogendioxide_sensor_zenith_angle', 'nitrogendioxide_solar_azimuth_angle', 'nitrogendioxide_solar_zenith_angle', 'formaldehyde_tropospheric_hcho_column_number_density', 'formaldehyde_tropospheric_hcho_column_number_density_amf', 'formaldehyde_hcho_slant_column_number_density', 'formaldehyde_cloud_fraction', 'formaldehyde_solar_zenith_angle', 'formaldehyde_solar_azimuth_angle', 'formaldehyde_sensor_zenith_angle', 'formaldehyde_sensor_azimuth_angle', 'uvaerosolindex_absorbing_aerosol_index', 'uvaerosolindex_sensor_altitude', 'uvaerosolindex_sensor_azimuth_angle', 'uvaerosolindex_sensor_zenith_angle', 'uvaerosolindex_solar_azimuth_angle', 'uvaerosolindex_solar_zenith_angle', 'ozone_o3_column_number_density', 'ozone_o3_column_number_density_amf', 'ozone_o3_slant_column_number_density', 'ozone_o3_effective_temperature', 'ozone_cloud_fraction', 'ozone_sensor_azimuth_angle', 'ozone_sensor_zenith_angle', 'ozone_solar_azimuth_angle', 'ozone_solar_zenith_angle', 'uvaerosollayerheight_aerosol_height', 'uvaerosollayerheight_aerosol_pressure', 'uvaerosollayerheight_aerosol_optical_depth', 'uvaerosollayerheight_sensor_zenith_angle', 'uvaerosollayerheight_sensor_azimuth_angle', 'uvaerosollayerheight_solar_azimuth_angle', 'uvaerosollayerheight_solar_zenith_angle', 'cloud_cloud_fraction', 'cloud_cloud_top_pressure', 'cloud_cloud_top_height', 'cloud_cloud_base_pressure', 'cloud_cloud_base_height', 'cloud_cloud_optical_depth', 'cloud_surface_albedo', 'cloud_sensor_azimuth_angle', 'cloud_sensor_zenith_angle', 'cloud_solar_azimuth_angle', 'cloud_solar_zenith_angle']\n"
     ]
    }
   ],
   "source": [
    "import pandas as pd\n",
    "with open('data/raw/Test_data_with_elevation.csv', 'r') as file:\n",
    "\ttest_df = pd.read_csv(file)\n",
    "\n",
    "# find columns with missing values\n",
    "missing_cols = test_df.columns[test_df.isnull().any()].to_list()\n",
    "\n",
    "print(missing_cols)"
   ]
  }
 ],
 "metadata": {
  "kernelspec": {
   "display_name": "base",
   "language": "python",
   "name": "python3"
  },
  "language_info": {
   "codemirror_mode": {
    "name": "ipython",
    "version": 3
   },
   "file_extension": ".py",
   "mimetype": "text/x-python",
   "name": "python",
   "nbconvert_exporter": "python",
   "pygments_lexer": "ipython3",
   "version": "3.11.7"
  }
 },
 "nbformat": 4,
 "nbformat_minor": 2
}
